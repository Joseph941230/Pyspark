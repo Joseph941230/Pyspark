{
  "nbformat": 4,
  "nbformat_minor": 0,
  "metadata": {
    "colab": {
      "provenance": [],
      "authorship_tag": "ABX9TyOCdfc2lwAukOEWdZekcTOB",
      "include_colab_link": true
    },
    "kernelspec": {
      "name": "python3",
      "display_name": "Python 3"
    },
    "language_info": {
      "name": "python"
    }
  },
  "cells": [
    {
      "cell_type": "markdown",
      "metadata": {
        "id": "view-in-github",
        "colab_type": "text"
      },
      "source": [
        "<a href=\"https://colab.research.google.com/github/Joseph941230/Pyspark/blob/main/Pyspark_prac.ipynb\" target=\"_parent\"><img src=\"https://colab.research.google.com/assets/colab-badge.svg\" alt=\"Open In Colab\"/></a>"
      ]
    },
    {
      "cell_type": "code",
      "execution_count": null,
      "metadata": {
        "id": "Pnbe0hYhEptN"
      },
      "outputs": [],
      "source": [
        "!apt-get install openjdk-8-jdk-headless -qq > /dev/null\n",
        "!wget -q http://archive.apache.org/dist/spark/spark-3.1.1/spark-3.1.1-bin-hadoop3.2.tgz\n",
        "!tar xf spark-3.1.1-bin-hadoop3.2.tgz\n",
        "!pip install -q findspark\n"
      ]
    },
    {
      "cell_type": "code",
      "source": [
        "import os\n",
        "os.environ[\"JAVA_HOME\"] = \"/usr/lib/jvm/java-8-openjdk-amd64\"\n",
        "os.environ[\"SPARK_HOME\"] = \"/content/spark-3.1.1-bin-hadoop3.2\""
      ],
      "metadata": {
        "id": "xVE_vcWAEzEZ"
      },
      "execution_count": null,
      "outputs": []
    },
    {
      "cell_type": "code",
      "source": [],
      "metadata": {
        "id": "HrrVw5LWodRp"
      },
      "execution_count": null,
      "outputs": []
    },
    {
      "cell_type": "code",
      "source": [
        "import findspark\n",
        "findspark.init()\n",
        "from pyspark.sql import SparkSession\n",
        "spark = SparkSession.builder.master(\"local[*]\").getOrCreate()\n",
        "spark.conf.set(\"spark.sql.repl.eagerEval.enabled\", True) # Property used to format output tables better\n",
        "spark"
      ],
      "metadata": {
        "colab": {
          "base_uri": "https://localhost:8080/",
          "height": 219
        },
        "id": "UdN_bY80E2KS",
        "outputId": "a6188b9d-6e79-4d3e-eb29-61d467a35721"
      },
      "execution_count": null,
      "outputs": [
        {
          "output_type": "execute_result",
          "data": {
            "text/plain": [
              "<pyspark.sql.session.SparkSession at 0x7bb60b598970>"
            ],
            "text/html": [
              "\n",
              "            <div>\n",
              "                <p><b>SparkSession - in-memory</b></p>\n",
              "                \n",
              "        <div>\n",
              "            <p><b>SparkContext</b></p>\n",
              "\n",
              "            <p><a href=\"http://df19e5cf890e:4040\">Spark UI</a></p>\n",
              "\n",
              "            <dl>\n",
              "              <dt>Version</dt>\n",
              "                <dd><code>v3.1.1</code></dd>\n",
              "              <dt>Master</dt>\n",
              "                <dd><code>local[*]</code></dd>\n",
              "              <dt>AppName</dt>\n",
              "                <dd><code>pyspark-shell</code></dd>\n",
              "            </dl>\n",
              "        </div>\n",
              "        \n",
              "            </div>\n",
              "        "
            ]
          },
          "metadata": {},
          "execution_count": 5
        }
      ]
    },
    {
      "cell_type": "code",
      "source": [
        "new_df = spark.read.csv(\"MOCK_DATA.csv\",header = True, inferSchema = True) # use inferSchema can treat the right data type"
      ],
      "metadata": {
        "id": "elcJkTLxe8Kj"
      },
      "execution_count": null,
      "outputs": []
    },
    {
      "cell_type": "code",
      "source": [
        "new_df.show()"
      ],
      "metadata": {
        "colab": {
          "base_uri": "https://localhost:8080/"
        },
        "id": "LqmUVQB-fhNZ",
        "outputId": "2a1fbc9c-a71a-428f-8d2e-00e3ab78944f"
      },
      "execution_count": null,
      "outputs": [
        {
          "output_type": "stream",
          "name": "stdout",
          "text": [
            "+---+----------+-----------+--------------------+----------+--------------+\n",
            "| id|first_name|  last_name|               email|    gender|    ip_address|\n",
            "+---+----------+-----------+--------------------+----------+--------------+\n",
            "|  1|  Harcourt|      Enser|   henser0@chron.com|  Bigender| 78.131.90.164|\n",
            "|  2|   Dorotea|       Wren|    dwren1@zdnet.com|    Female|70.197.109.138|\n",
            "|  3|     Nesta|   Jervoise|njervoise2@cargoc...|    Female|116.67.223.252|\n",
            "|  4|     Timmi|      Zuker|tzuker3@kickstart...|    Female|  41.117.81.99|\n",
            "|  5|      Bili|      Wigin|  bwigin4@senate.gov|Non-binary|  66.228.25.32|\n",
            "|  6| Stephenie|   St Clair|  sstclair5@yelp.com|    Female|204.15.220.140|\n",
            "|  7|Margaretha|      Macek|mmacek6@virginia.edu|    Female|235.167.59.249|\n",
            "|  8| Thorndike|     Arthan|tarthan7@aboutads...|      Male|101.58.180.167|\n",
            "|  9|  Ezechiel|     Rainey|erainey8@reuters.com|      Male| 132.186.60.85|\n",
            "| 10|    Sindee|    Traynor|straynor9@census.gov|    Female|  18.50.61.175|\n",
            "| 11|  Orbadiah|    McRorie| omcroriea@patch.com|      Male|  243.178.24.3|\n",
            "| 12|      Guss|    Raggatt|  graggattb@ucsd.edu|      Male| 221.113.62.97|\n",
            "| 13|   Bryanty|O' Sullivan|bosullivanc@imdb.com|      Male| 253.79.96.112|\n",
            "| 14|    Abbott|       Veld|    aveldd@yahoo.com|Polygender| 217.94.104.50|\n",
            "| 15|     Kelly|    Weepers|  kweeperse@ucla.edu|    Female| 250.97.124.68|\n",
            "| 16|     Maxie|   Melarkey|mmelarkeyf@prince...|      Male| 78.27.205.239|\n",
            "| 17|     Merna|   Checkley|mcheckleyg@thetim...|    Female| 204.148.6.201|\n",
            "| 18|    Maible|      Diche|mdicheh@csmonitor...|Non-binary|   81.6.45.110|\n",
            "| 19|     Winne|      Brosh|    wbroshi@xing.com|    Female|163.80.229.248|\n",
            "| 20|     Peter|  Philippon|pphilipponj@washi...|      Male| 95.52.146.201|\n",
            "+---+----------+-----------+--------------------+----------+--------------+\n",
            "only showing top 20 rows\n",
            "\n"
          ]
        }
      ]
    },
    {
      "cell_type": "code",
      "source": [
        "new_df.filter(\"gender == 'Female' and last_name == 'Enser'\").show() # filter SQL style"
      ],
      "metadata": {
        "colab": {
          "base_uri": "https://localhost:8080/"
        },
        "id": "QW073iSWfmpi",
        "outputId": "8919abfa-7387-4e30-d064-2fcc8ab26f09"
      },
      "execution_count": null,
      "outputs": [
        {
          "output_type": "stream",
          "name": "stdout",
          "text": [
            "+---+----------+---------+-----+------+----------+\n",
            "| id|first_name|last_name|email|gender|ip_address|\n",
            "+---+----------+---------+-----+------+----------+\n",
            "+---+----------+---------+-----+------+----------+\n",
            "\n"
          ]
        }
      ]
    },
    {
      "cell_type": "code",
      "source": [
        "new_df.filter((new_df.last_name == \"Enser\") & (new_df.gender == \"Female\")).limit(5).show()\n"
      ],
      "metadata": {
        "colab": {
          "base_uri": "https://localhost:8080/"
        },
        "id": "ylYMHIkqhieS",
        "outputId": "f831e0c5-a326-4e3f-98c1-32ca6c75b8db"
      },
      "execution_count": null,
      "outputs": [
        {
          "output_type": "stream",
          "name": "stdout",
          "text": [
            "+---+----------+---------+-----+------+----------+\n",
            "| id|first_name|last_name|email|gender|ip_address|\n",
            "+---+----------+---------+-----+------+----------+\n",
            "+---+----------+---------+-----+------+----------+\n",
            "\n"
          ]
        }
      ]
    },
    {
      "cell_type": "code",
      "source": [
        "new_df.select(\"id\").filter(\"id <= 3\").show() #SELECT function"
      ],
      "metadata": {
        "colab": {
          "base_uri": "https://localhost:8080/"
        },
        "id": "qIaJK0cdig8w",
        "outputId": "be78ebfd-8d81-48b3-d68b-6f84a5097465"
      },
      "execution_count": null,
      "outputs": [
        {
          "output_type": "stream",
          "name": "stdout",
          "text": [
            "+---+\n",
            "| id|\n",
            "+---+\n",
            "|  1|\n",
            "|  2|\n",
            "|  3|\n",
            "+---+\n",
            "\n"
          ]
        }
      ]
    }
  ]
}