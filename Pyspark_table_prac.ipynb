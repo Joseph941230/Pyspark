{
  "nbformat": 4,
  "nbformat_minor": 0,
  "metadata": {
    "colab": {
      "provenance": [],
      "authorship_tag": "ABX9TyNfossnASxZLWFJ/I7ExYqh",
      "include_colab_link": true
    },
    "kernelspec": {
      "name": "python3",
      "display_name": "Python 3"
    },
    "language_info": {
      "name": "python"
    }
  },
  "cells": [
    {
      "cell_type": "markdown",
      "metadata": {
        "id": "view-in-github",
        "colab_type": "text"
      },
      "source": [
        "<a href=\"https://colab.research.google.com/github/Joseph941230/Pyspark/blob/main/Pyspark_table_prac.ipynb\" target=\"_parent\"><img src=\"https://colab.research.google.com/assets/colab-badge.svg\" alt=\"Open In Colab\"/></a>"
      ]
    },
    {
      "cell_type": "code",
      "execution_count": 1,
      "metadata": {
        "id": "Pnbe0hYhEptN"
      },
      "outputs": [],
      "source": [
        "!apt-get install openjdk-8-jdk-headless -qq > /dev/null\n",
        "!wget -q http://archive.apache.org/dist/spark/spark-3.1.1/spark-3.1.1-bin-hadoop3.2.tgz\n",
        "!tar xf spark-3.1.1-bin-hadoop3.2.tgz\n",
        "!pip install -q findspark\n"
      ]
    },
    {
      "cell_type": "code",
      "source": [
        "import os\n",
        "os.environ[\"JAVA_HOME\"] = \"/usr/lib/jvm/java-8-openjdk-amd64\"\n",
        "os.environ[\"SPARK_HOME\"] = \"/content/spark-3.1.1-bin-hadoop3.2\""
      ],
      "metadata": {
        "id": "xVE_vcWAEzEZ"
      },
      "execution_count": 2,
      "outputs": []
    },
    {
      "cell_type": "code",
      "source": [],
      "metadata": {
        "id": "HrrVw5LWodRp"
      },
      "execution_count": null,
      "outputs": []
    },
    {
      "cell_type": "code",
      "source": [
        "import findspark\n",
        "findspark.init()\n",
        "from pyspark.sql import SparkSession\n",
        "spark = SparkSession.builder.master(\"local[*]\").getOrCreate()\n",
        "spark.conf.set(\"spark.sql.repl.eagerEval.enabled\", True) # Property used to format output tables better\n",
        "spark"
      ],
      "metadata": {
        "colab": {
          "base_uri": "https://localhost:8080/",
          "height": 219
        },
        "id": "UdN_bY80E2KS",
        "outputId": "6b8e9a87-f396-41e8-eef3-419871ff9544"
      },
      "execution_count": 3,
      "outputs": [
        {
          "output_type": "execute_result",
          "data": {
            "text/plain": [
              "<pyspark.sql.session.SparkSession at 0x7f7c7c3d56c0>"
            ],
            "text/html": [
              "\n",
              "            <div>\n",
              "                <p><b>SparkSession - in-memory</b></p>\n",
              "                \n",
              "        <div>\n",
              "            <p><b>SparkContext</b></p>\n",
              "\n",
              "            <p><a href=\"http://ca58b0ff43c3:4040\">Spark UI</a></p>\n",
              "\n",
              "            <dl>\n",
              "              <dt>Version</dt>\n",
              "                <dd><code>v3.1.1</code></dd>\n",
              "              <dt>Master</dt>\n",
              "                <dd><code>local[*]</code></dd>\n",
              "              <dt>AppName</dt>\n",
              "                <dd><code>pyspark-shell</code></dd>\n",
              "            </dl>\n",
              "        </div>\n",
              "        \n",
              "            </div>\n",
              "        "
            ]
          },
          "metadata": {},
          "execution_count": 3
        }
      ]
    },
    {
      "cell_type": "code",
      "source": [
        "Address_df = spark.read.csv(\"Address.csv\",header = True, inferSchema = True).createOrReplaceTempView(\"Address\") # use inferSchema can treat the right data type and create spark table"
      ],
      "metadata": {
        "id": "elcJkTLxe8Kj"
      },
      "execution_count": 21,
      "outputs": []
    },
    {
      "cell_type": "code",
      "source": [
        "Person_df = spark.read.csv(\"Person.csv\",header = True, inferSchema = True).createOrReplaceTempView(\"Person\") # use inferSchema can treat the right data type"
      ],
      "metadata": {
        "id": "LqmUVQB-fhNZ"
      },
      "execution_count": 22,
      "outputs": []
    },
    {
      "cell_type": "code",
      "source": [
        "SSN_df = spark.read.csv(\"SSN.csv\",header = True, inferSchema = True).createOrReplaceTempView(\"SSN\") # use inferSchema can treat the right data type"
      ],
      "metadata": {
        "id": "rgxVenFXsZ7H"
      },
      "execution_count": 23,
      "outputs": []
    },
    {
      "cell_type": "code",
      "source": [
        "SSN_df = spark.sql(\"SELECT CITY FROM SSN WHERE CITY LIKE '%Na%'\").show() # Pysaprk SQL to output result"
      ],
      "metadata": {
        "id": "qPsmbmh0shtB",
        "outputId": "b097e139-0356-49c1-c1b1-ac8149061071",
        "colab": {
          "base_uri": "https://localhost:8080/"
        }
      },
      "execution_count": 32,
      "outputs": [
        {
          "output_type": "stream",
          "name": "stdout",
          "text": [
            "+---------+\n",
            "|     CITY|\n",
            "+---------+\n",
            "|   Narsaq|\n",
            "|Nangerang|\n",
            "+---------+\n",
            "\n"
          ]
        }
      ]
    },
    {
      "cell_type": "code",
      "source": [
        "Address_df= spark.sql(\"SELECT * FROM Address WHERE id < 10\").show()"
      ],
      "metadata": {
        "id": "w3HE8OyeskCS",
        "outputId": "6b1efff1-9f7a-4240-f5bd-184e77c794d7",
        "colab": {
          "base_uri": "https://localhost:8080/"
        }
      },
      "execution_count": 37,
      "outputs": [
        {
          "output_type": "stream",
          "name": "stdout",
          "text": [
            "+---+-----------+---------+\n",
            "| id|       City|  Country|\n",
            "+---+-----------+---------+\n",
            "|  1|   Sahnaiya|    Syria|\n",
            "|  2|   Pankshin|  Nigeria|\n",
            "|  3|      Froly|   Russia|\n",
            "|  4|      Nytva|   Russia|\n",
            "|  5| Loujiadian|    China|\n",
            "|  6|     Dongdu|    China|\n",
            "|  7|   Caikouji|    China|\n",
            "|  8|      Bombu|Indonesia|\n",
            "|  9|Santo Amaro| Portugal|\n",
            "+---+-----------+---------+\n",
            "\n"
          ]
        }
      ]
    },
    {
      "cell_type": "code",
      "source": [
        "New_df = spark.sql(\"SELECT p.id, a.city FROM Person p JOIN Address a on p.id = a.id\").show() # sprak SQL functions SELECT ID and city"
      ],
      "metadata": {
        "id": "RrpVP6bGvO5O",
        "outputId": "af9caa34-e5e4-4c71-9cbe-d8515b4a603f",
        "colab": {
          "base_uri": "https://localhost:8080/"
        }
      },
      "execution_count": 46,
      "outputs": [
        {
          "output_type": "stream",
          "name": "stdout",
          "text": [
            "+---+--------------+\n",
            "| id|          city|\n",
            "+---+--------------+\n",
            "|  1|      Sahnaiya|\n",
            "|  2|      Pankshin|\n",
            "|  3|         Froly|\n",
            "|  4|         Nytva|\n",
            "|  5|    Loujiadian|\n",
            "|  6|        Dongdu|\n",
            "|  7|      Caikouji|\n",
            "|  8|         Bombu|\n",
            "|  9|   Santo Amaro|\n",
            "| 10|     Takahashi|\n",
            "| 11|        Xiaoya|\n",
            "| 12|     Yongchuan|\n",
            "| 13|Dayr Abū Ḑa‘īf|\n",
            "| 14|          Perm|\n",
            "| 15|      La Julia|\n",
            "| 16|     Khovaling|\n",
            "| 17|         Putre|\n",
            "| 18|     Nevesinje|\n",
            "| 19|        Paseka|\n",
            "| 20|        Yangxu|\n",
            "+---+--------------+\n",
            "only showing top 20 rows\n",
            "\n"
          ]
        }
      ]
    },
    {
      "cell_type": "code",
      "source": [
        "Person_df.show()"
      ],
      "metadata": {
        "id": "8-YQ_5-WsmiZ",
        "outputId": "311ea5ed-ec90-4590-b3c5-888809329305",
        "colab": {
          "base_uri": "https://localhost:8080/"
        }
      },
      "execution_count": 9,
      "outputs": [
        {
          "output_type": "stream",
          "name": "stdout",
          "text": [
            "+---+----------+----------+--------------------+-----------+\n",
            "| id|first_name| last_name|               email|     gender|\n",
            "+---+----------+----------+--------------------+-----------+\n",
            "|  1|   Dimitry|   Pattlel|dpattlel0@dyndns.org|    Agender|\n",
            "|  2|      Tybi|Everington|teverington1@goog...|     Female|\n",
            "|  3|    Willis|      Brik| wbrik2@bluehost.com|       Male|\n",
            "|  4|     Allin|   Henrych|ahenrych3@shop-pr...|   Bigender|\n",
            "|  5|    Evelin|Waterhouse|ewaterhouse4@wiki...|       Male|\n",
            "|  6|      Trip|   Partner|tpartner5@howstuf...|       Male|\n",
            "|  7|    Ronnie|   Grafham|rgrafham6@bloombe...|     Female|\n",
            "|  8|  Nikolaos|  Risebrow|  nrisebrow7@icio.us|       Male|\n",
            "|  9|  Marillin| Filintsev|  mfilintsev8@i2i.jp|     Female|\n",
            "| 10|      Tobe|    Saward|tsaward9@over-blo...|     Female|\n",
            "| 11|    Averil|  Lavielle|alaviellea@cpanel...|       Male|\n",
            "| 12|   Teodoor|    Divell|tdivellb@dagondes...|       Male|\n",
            "| 13|    Tomlin|    Twaits|ttwaitsc@independ...|       Male|\n",
            "| 14|       Tim|    Folker|     tfolkerd@nhs.uk|     Female|\n",
            "| 15|      Duke|   Humpage|  dhumpagee@about.me|       Male|\n",
            "| 16|      Adan|    Jahnig|   ajahnigf@sohu.com|     Female|\n",
            "| 17|    Ansell|     Thame|athameg@cloudflar...|       Male|\n",
            "| 18| Westleigh|    Diggle|wdiggleh@bravesit...|Genderqueer|\n",
            "| 19|     Deena|   Barsham|dbarshami@twitter...|     Female|\n",
            "| 20|    Vinita|  Melendez|vmelendezj@cdbaby...|   Bigender|\n",
            "+---+----------+----------+--------------------+-----------+\n",
            "only showing top 20 rows\n",
            "\n"
          ]
        }
      ]
    },
    {
      "cell_type": "code",
      "source": [
        "SSN_df = spark.sql(\"SELECT City FROM SSN\").show()"
      ],
      "metadata": {
        "id": "A920p9l8sp6G",
        "outputId": "a1ced430-c32f-47f3-9240-8827ad405702",
        "colab": {
          "base_uri": "https://localhost:8080/"
        }
      },
      "execution_count": 20,
      "outputs": [
        {
          "output_type": "stream",
          "name": "stdout",
          "text": [
            "+--------------+\n",
            "|          City|\n",
            "+--------------+\n",
            "|      Sahnaiya|\n",
            "|      Pankshin|\n",
            "|         Froly|\n",
            "|         Nytva|\n",
            "|    Loujiadian|\n",
            "|        Dongdu|\n",
            "|      Caikouji|\n",
            "|         Bombu|\n",
            "|   Santo Amaro|\n",
            "|     Takahashi|\n",
            "|        Xiaoya|\n",
            "|     Yongchuan|\n",
            "|Dayr Abū Ḑa‘īf|\n",
            "|          Perm|\n",
            "|      La Julia|\n",
            "|     Khovaling|\n",
            "|         Putre|\n",
            "|     Nevesinje|\n",
            "|        Paseka|\n",
            "|        Yangxu|\n",
            "+--------------+\n",
            "only showing top 20 rows\n",
            "\n"
          ]
        }
      ]
    },
    {
      "cell_type": "code",
      "source": [
        "Person_df.where(\"gender == 'Female'\")"
      ],
      "metadata": {
        "id": "YQldQ9BqtHeP",
        "outputId": "323322f5-1eb9-45d7-b8ca-5ac6ef5a3027",
        "colab": {
          "base_uri": "https://localhost:8080/",
          "height": 529
        }
      },
      "execution_count": 17,
      "outputs": [
        {
          "output_type": "execute_result",
          "data": {
            "text/plain": [
              "+---+----------+-----------+--------------------+------+\n",
              "| id|first_name|  last_name|               email|gender|\n",
              "+---+----------+-----------+--------------------+------+\n",
              "|  2|      Tybi| Everington|teverington1@goog...|Female|\n",
              "|  7|    Ronnie|    Grafham|rgrafham6@bloombe...|Female|\n",
              "|  9|  Marillin|  Filintsev|  mfilintsev8@i2i.jp|Female|\n",
              "| 10|      Tobe|     Saward|tsaward9@over-blo...|Female|\n",
              "| 14|       Tim|     Folker|     tfolkerd@nhs.uk|Female|\n",
              "| 16|      Adan|     Jahnig|   ajahnigf@sohu.com|Female|\n",
              "| 19|     Deena|    Barsham|dbarshami@twitter...|Female|\n",
              "| 26|     Polly|       Laba|        plabap@is.gd|Female|\n",
              "| 27|      Kali|    Kording|kkordingq@blogspo...|Female|\n",
              "| 28|  Morganne|    Ziemens|  mziemensr@furl.net|Female|\n",
              "| 31|    Alisun|Rosenthaler|arosenthaleru@git...|Female|\n",
              "| 35|    Linell| Horsefield|lhorsefieldy@dail...|Female|\n",
              "| 41|      Juli|   Boldison|jboldison14@smugm...|Female|\n",
              "| 42|     Nancy|   Busswell|nbusswell15@wufoo...|Female|\n",
              "| 44| Hortensia|     Vasler|hvasler17@github.com|Female|\n",
              "| 45|    Arabel|    Smewing|asmewing18@japanp...|Female|\n",
              "| 46|   Caresse|     Gauler|cgauler19@discuz.net|Female|\n",
              "| 49| Hollyanne|    Basilio|hbasilio1c@sharea...|Female|\n",
              "| 52|     Cathy|  Hendricks|chendricks1f@accu...|Female|\n",
              "| 53|    Elwira|      Swire|eswire1g@trellian...|Female|\n",
              "+---+----------+-----------+--------------------+------+\n",
              "only showing top 20 rows"
            ],
            "text/html": [
              "<table border='1'>\n",
              "<tr><th>id</th><th>first_name</th><th>last_name</th><th>email</th><th>gender</th></tr>\n",
              "<tr><td>2</td><td>Tybi</td><td>Everington</td><td>teverington1@goog...</td><td>Female</td></tr>\n",
              "<tr><td>7</td><td>Ronnie</td><td>Grafham</td><td>rgrafham6@bloombe...</td><td>Female</td></tr>\n",
              "<tr><td>9</td><td>Marillin</td><td>Filintsev</td><td>mfilintsev8@i2i.jp</td><td>Female</td></tr>\n",
              "<tr><td>10</td><td>Tobe</td><td>Saward</td><td>tsaward9@over-blo...</td><td>Female</td></tr>\n",
              "<tr><td>14</td><td>Tim</td><td>Folker</td><td>tfolkerd@nhs.uk</td><td>Female</td></tr>\n",
              "<tr><td>16</td><td>Adan</td><td>Jahnig</td><td>ajahnigf@sohu.com</td><td>Female</td></tr>\n",
              "<tr><td>19</td><td>Deena</td><td>Barsham</td><td>dbarshami@twitter...</td><td>Female</td></tr>\n",
              "<tr><td>26</td><td>Polly</td><td>Laba</td><td>plabap@is.gd</td><td>Female</td></tr>\n",
              "<tr><td>27</td><td>Kali</td><td>Kording</td><td>kkordingq@blogspo...</td><td>Female</td></tr>\n",
              "<tr><td>28</td><td>Morganne</td><td>Ziemens</td><td>mziemensr@furl.net</td><td>Female</td></tr>\n",
              "<tr><td>31</td><td>Alisun</td><td>Rosenthaler</td><td>arosenthaleru@git...</td><td>Female</td></tr>\n",
              "<tr><td>35</td><td>Linell</td><td>Horsefield</td><td>lhorsefieldy@dail...</td><td>Female</td></tr>\n",
              "<tr><td>41</td><td>Juli</td><td>Boldison</td><td>jboldison14@smugm...</td><td>Female</td></tr>\n",
              "<tr><td>42</td><td>Nancy</td><td>Busswell</td><td>nbusswell15@wufoo...</td><td>Female</td></tr>\n",
              "<tr><td>44</td><td>Hortensia</td><td>Vasler</td><td>hvasler17@github.com</td><td>Female</td></tr>\n",
              "<tr><td>45</td><td>Arabel</td><td>Smewing</td><td>asmewing18@japanp...</td><td>Female</td></tr>\n",
              "<tr><td>46</td><td>Caresse</td><td>Gauler</td><td>cgauler19@discuz.net</td><td>Female</td></tr>\n",
              "<tr><td>49</td><td>Hollyanne</td><td>Basilio</td><td>hbasilio1c@sharea...</td><td>Female</td></tr>\n",
              "<tr><td>52</td><td>Cathy</td><td>Hendricks</td><td>chendricks1f@accu...</td><td>Female</td></tr>\n",
              "<tr><td>53</td><td>Elwira</td><td>Swire</td><td>eswire1g@trellian...</td><td>Female</td></tr>\n",
              "</table>\n",
              "only showing top 20 rows\n"
            ]
          },
          "metadata": {},
          "execution_count": 17
        }
      ]
    }
  ]
}